{
 "cells": [
  {
   "cell_type": "markdown",
   "metadata": {},
   "source": [
    "# Data preprocessing"
   ]
  },
  {
   "cell_type": "code",
   "execution_count": 31,
   "metadata": {},
   "outputs": [],
   "source": [
    "data = read.csv('Position_Salaries.csv')"
   ]
  },
  {
   "cell_type": "code",
   "execution_count": 32,
   "metadata": {},
   "outputs": [
    {
     "data": {
      "text/html": [
       "<table>\n",
       "<caption>A data.frame: 10 × 2</caption>\n",
       "<thead>\n",
       "\t<tr><th scope=col>Level</th><th scope=col>Salary</th></tr>\n",
       "\t<tr><th scope=col>&lt;int&gt;</th><th scope=col>&lt;int&gt;</th></tr>\n",
       "</thead>\n",
       "<tbody>\n",
       "\t<tr><td> 1</td><td>  45000</td></tr>\n",
       "\t<tr><td> 2</td><td>  50000</td></tr>\n",
       "\t<tr><td> 3</td><td>  60000</td></tr>\n",
       "\t<tr><td> 4</td><td>  80000</td></tr>\n",
       "\t<tr><td> 5</td><td> 110000</td></tr>\n",
       "\t<tr><td> 6</td><td> 150000</td></tr>\n",
       "\t<tr><td> 7</td><td> 200000</td></tr>\n",
       "\t<tr><td> 8</td><td> 300000</td></tr>\n",
       "\t<tr><td> 9</td><td> 500000</td></tr>\n",
       "\t<tr><td>10</td><td>1000000</td></tr>\n",
       "</tbody>\n",
       "</table>\n"
      ],
      "text/latex": [
       "A data.frame: 10 × 2\n",
       "\\begin{tabular}{ll}\n",
       " Level & Salary\\\\\n",
       " <int> & <int>\\\\\n",
       "\\hline\n",
       "\t  1 &   45000\\\\\n",
       "\t  2 &   50000\\\\\n",
       "\t  3 &   60000\\\\\n",
       "\t  4 &   80000\\\\\n",
       "\t  5 &  110000\\\\\n",
       "\t  6 &  150000\\\\\n",
       "\t  7 &  200000\\\\\n",
       "\t  8 &  300000\\\\\n",
       "\t  9 &  500000\\\\\n",
       "\t 10 & 1000000\\\\\n",
       "\\end{tabular}\n"
      ],
      "text/markdown": [
       "\n",
       "A data.frame: 10 × 2\n",
       "\n",
       "| Level &lt;int&gt; | Salary &lt;int&gt; |\n",
       "|---|---|\n",
       "|  1 |   45000 |\n",
       "|  2 |   50000 |\n",
       "|  3 |   60000 |\n",
       "|  4 |   80000 |\n",
       "|  5 |  110000 |\n",
       "|  6 |  150000 |\n",
       "|  7 |  200000 |\n",
       "|  8 |  300000 |\n",
       "|  9 |  500000 |\n",
       "| 10 | 1000000 |\n",
       "\n"
      ],
      "text/plain": [
       "   Level Salary \n",
       "1   1      45000\n",
       "2   2      50000\n",
       "3   3      60000\n",
       "4   4      80000\n",
       "5   5     110000\n",
       "6   6     150000\n",
       "7   7     200000\n",
       "8   8     300000\n",
       "9   9     500000\n",
       "10 10    1000000"
      ]
     },
     "metadata": {},
     "output_type": "display_data"
    }
   ],
   "source": [
    "data = data[2:3]\n",
    "data"
   ]
  },
  {
   "cell_type": "markdown",
   "metadata": {},
   "source": [
    "# fitting Linear Regression Model"
   ]
  },
  {
   "cell_type": "code",
   "execution_count": 33,
   "metadata": {},
   "outputs": [],
   "source": [
    "lin_reg= lm(formula = Salary ~ .,\n",
    "           data = data)"
   ]
  },
  {
   "cell_type": "code",
   "execution_count": 34,
   "metadata": {},
   "outputs": [
    {
     "data": {
      "text/plain": [
       "\n",
       "Call:\n",
       "lm(formula = Salary ~ ., data = data)\n",
       "\n",
       "Residuals:\n",
       "    Min      1Q  Median      3Q     Max \n",
       "-170818 -129720  -40379   65856  386545 \n",
       "\n",
       "Coefficients:\n",
       "            Estimate Std. Error t value Pr(>|t|)   \n",
       "(Intercept)  -195333     124790  -1.565  0.15615   \n",
       "Level          80879      20112   4.021  0.00383 **\n",
       "---\n",
       "Signif. codes:  0 '***' 0.001 '**' 0.01 '*' 0.05 '.' 0.1 ' ' 1\n",
       "\n",
       "Residual standard error: 182700 on 8 degrees of freedom\n",
       "Multiple R-squared:  0.669,\tAdjusted R-squared:  0.6277 \n",
       "F-statistic: 16.17 on 1 and 8 DF,  p-value: 0.003833\n"
      ]
     },
     "metadata": {},
     "output_type": "display_data"
    }
   ],
   "source": [
    "summary(lin_reg)"
   ]
  },
  {
   "cell_type": "markdown",
   "metadata": {},
   "source": [
    "# Fitting polynomial Regression"
   ]
  },
  {
   "cell_type": "code",
   "execution_count": 35,
   "metadata": {},
   "outputs": [],
   "source": [
    "data$Level2 = data$Level^2\n",
    "poly_reg = lm(formula = Salary ~ .,\n",
    "             data= data)"
   ]
  },
  {
   "cell_type": "code",
   "execution_count": 36,
   "metadata": {},
   "outputs": [
    {
     "data": {
      "text/plain": [
       "\n",
       "Call:\n",
       "lm(formula = Salary ~ ., data = data)\n",
       "\n",
       "Residuals:\n",
       "    Min      1Q  Median      3Q     Max \n",
       "-112833  -68852   10682   55186  153364 \n",
       "\n",
       "Coefficients:\n",
       "            Estimate Std. Error t value Pr(>|t|)   \n",
       "(Intercept)   232167     115571   2.009  0.08451 . \n",
       "Level        -132871      48268  -2.753  0.02839 * \n",
       "Level2         19432       4276   4.544  0.00265 **\n",
       "---\n",
       "Signif. codes:  0 '***' 0.001 '**' 0.01 '*' 0.05 '.' 0.1 ' ' 1\n",
       "\n",
       "Residual standard error: 98260 on 7 degrees of freedom\n",
       "Multiple R-squared:  0.9162,\tAdjusted R-squared:  0.8923 \n",
       "F-statistic: 38.27 on 2 and 7 DF,  p-value: 0.0001703\n"
      ]
     },
     "metadata": {},
     "output_type": "display_data"
    }
   ],
   "source": [
    "summary(poly_reg)"
   ]
  },
  {
   "cell_type": "markdown",
   "metadata": {},
   "source": [
    "# Visualising the linear regression result"
   ]
  },
  {
   "cell_type": "code",
   "execution_count": 37,
   "metadata": {},
   "outputs": [],
   "source": [
    "library(ggplot2)"
   ]
  },
  {
   "cell_type": "code",
   "execution_count": 38,
   "metadata": {},
   "outputs": [
    {
     "data": {
      "image/png": "[encoded data removed]",
      "text/plain": [
       "plot without title"
      ]
     },
     "metadata": {
      "image/png": {
       "height": 420,
       "width": 420
      }
     },
     "output_type": "display_data"
    }
   ],
   "source": [
    "ggplot() +\n",
    "    geom_point(aes(x = data$Level,y = data$Salary),\n",
    "              color='red') +\n",
    "    geom_line(aes(x= data$Level, y= predict(lin_reg,newdata = data)),\n",
    "             color= 'blue')+\n",
    "    ggtitle('Linear Regression') +\n",
    "    xlab('Level') +\n",
    "    ylab('Salary')"
   ]
  },
  {
   "cell_type": "markdown",
   "metadata": {},
   "source": [
    "# Visualisig the polynomial regression results "
   ]
  },
  {
   "cell_type": "markdown",
   "metadata": {},
   "source": [
    "## 2 Degree"
   ]
  },
  {
   "cell_type": "code",
   "execution_count": 39,
   "metadata": {},
   "outputs": [
    {
     "data": {
      "image/png": "[encoded data removed]",
      "text/plain": [
       "plot without title"
      ]
     },
     "metadata": {
      "image/png": {
       "height": 420,
       "width": 420
      }
     },
     "output_type": "display_data"
    }
   ],
   "source": [
    "ggplot() +\n",
    "    geom_point(aes(x = data$Level,y = data$Salary),\n",
    "              color='red') +\n",
    "    geom_line(aes(x= data$Level, y= predict(poly_reg,newdata = data)),\n",
    "             color= 'blue')+\n",
    "    ggtitle('Polynomial Regression (degree=2)') +\n",
    "    xlab('Level') +\n",
    "    ylab('Salary')"
   ]
  },
  {
   "cell_type": "markdown",
   "metadata": {},
   "source": [
    "## 3 Degree"
   ]
  },
  {
   "cell_type": "code",
   "execution_count": 40,
   "metadata": {},
   "outputs": [],
   "source": [
    "data$Level3 = data$Level^3\n",
    "poly_reg3 = lm(formula = Salary ~ .,\n",
    "             data= data)"
   ]
  },
  {
   "cell_type": "code",
   "execution_count": 41,
   "metadata": {},
   "outputs": [
    {
     "data": {
      "image/png": "[encoded data removed]",
      "text/plain": [
       "plot without title"
      ]
     },
     "metadata": {
      "image/png": {
       "height": 420,
       "width": 420
      }
     },
     "output_type": "display_data"
    }
   ],
   "source": [
    "ggplot() +\n",
    "    geom_point(aes(x = data$Level,y = data$Salary),\n",
    "              color='red') +\n",
    "    geom_line(aes(x= data$Level, y= predict(poly_reg3,newdata = data)),\n",
    "             color= 'blue')+\n",
    "    ggtitle('Polynomial Regression (degree=3)') +\n",
    "    xlab('Level') +\n",
    "    ylab('Salary')"
   ]
  },
  {
   "cell_type": "markdown",
   "metadata": {},
   "source": [
    "## 4 Degree"
   ]
  },
  {
   "cell_type": "code",
   "execution_count": 42,
   "metadata": {},
   "outputs": [],
   "source": [
    "data$Level4 = data$Level^4\n",
    "poly_reg4 = lm(formula = Salary ~ .,\n",
    "             data= data)"
   ]
  },
  {
   "cell_type": "code",
   "execution_count": 43,
   "metadata": {},
   "outputs": [
    {
     "data": {
      "image/png": "[encoded data removed]",
      "text/plain": [
       "plot without title"
      ]
     },
     "metadata": {
      "image/png": {
       "height": 420,
       "width": 420
      }
     },
     "output_type": "display_data"
    }
   ],
   "source": [
    "ggplot() +\n",
    "    geom_point(aes(x = data$Level,y = data$Salary),\n",
    "              color='red') +\n",
    "    geom_line(aes(x= data$Level, y= predict(poly_reg4,newdata = data)),\n",
    "             color= 'blue')+\n",
    "    ggtitle('Polynomial Regression (degree=4)') +\n",
    "    xlab('Level') +\n",
    "    ylab('Salary')"
   ]
  }
 ],
 "metadata": {
  "kernelspec": {
   "display_name": "R",
   "language": "R",
   "name": "ir"
  },
  "language_info": {
   "codemirror_mode": "r",
   "file_extension": ".r",
   "mimetype": "text/x-r-source",
   "name": "R",
   "pygments_lexer": "r",
   "version": "4.0.2"
  }
 },
 "nbformat": 4,
 "nbformat_minor": 4
}
